{
  "metadata": {
    "kernelspec": {
      "language": "python",
      "display_name": "Python 3",
      "name": "python3"
    },
    "language_info": {
      "name": "python",
      "version": "3.7.12",
      "mimetype": "text/x-python",
      "codemirror_mode": {
        "name": "ipython",
        "version": 3
      },
      "pygments_lexer": "ipython3",
      "nbconvert_exporter": "python",
      "file_extension": ".py"
    },
    "kaggle": {
      "accelerator": "none",
      "dataSources": [
        {
          "sourceId": 3097,
          "sourceType": "datasetVersion",
          "datasetId": 1789
        }
      ],
      "dockerImageVersionId": 30154,
      "isInternetEnabled": false,
      "language": "python",
      "sourceType": "notebook",
      "isGpuEnabled": false
    },
    "colab": {
      "provenance": [],
      "include_colab_link": true
    }
  },
  "nbformat_minor": 0,
  "nbformat": 4,
  "cells": [
    {
      "cell_type": "markdown",
      "metadata": {
        "id": "view-in-github",
        "colab_type": "text"
      },
      "source": [
        "<a href=\"https://colab.research.google.com/github/dtanwar23/Forecasting-Price-with-LSTM/blob/main/Retail_sales_wit_lstm.ipynb\" target=\"_parent\"><img src=\"https://colab.research.google.com/assets/colab-badge.svg\" alt=\"Open In Colab\"/></a>"
      ]
    },
    {
      "cell_type": "markdown",
      "source": [
        "# Imports"
      ],
      "metadata": {
        "id": "noXk66UAytZP"
      }
    },
    {
      "cell_type": "code",
      "source": [
        "import pandas as pd\n",
        "import numpy as np\n",
        "from sklearn.preprocessing import MinMaxScaler\n",
        "from tensorflow.keras.preprocessing.sequence import TimeseriesGenerator\n",
        "from tensorflow.keras.models import Sequential\n",
        "from tensorflow.keras.layers import LSTM, Dense\n",
        "from tensorflow.keras.callbacks import EarlyStopping"
      ],
      "metadata": {
        "execution": {
          "iopub.status.busy": "2024-05-22T00:35:27.663867Z",
          "iopub.execute_input": "2024-05-22T00:35:27.664264Z",
          "iopub.status.idle": "2024-05-22T00:35:27.672574Z",
          "shell.execute_reply.started": "2024-05-22T00:35:27.664225Z",
          "shell.execute_reply": "2024-05-22T00:35:27.671145Z"
        },
        "trusted": true,
        "id": "qs560yBPytZV"
      },
      "execution_count": null,
      "outputs": []
    },
    {
      "cell_type": "markdown",
      "source": [
        "# Load Dataset"
      ],
      "metadata": {
        "id": "Rn_CfTozytZX"
      }
    },
    {
      "cell_type": "markdown",
      "source": [
        "As the data coming from Brasil we need to translate the columns names:\n",
        "\n",
        "Portugese | English\n",
        "--- | ---\n",
        "data | Date\n",
        "venda | Sales\n",
        "estoque | Stock\n",
        "preco | price"
      ],
      "metadata": {
        "id": "HcntBuWzytZY"
      }
    },
    {
      "cell_type": "code",
      "source": [
        "df = pd.read_csv(\"/kaggle/input/retail-sales-forecasting/mock_kaggle.csv\", index_col=\"data\")\n",
        "df = df.rename(columns={'data' : 'Date', 'venda' : 'Sales', 'estoque' : 'Stock', 'preco' : 'Price'})"
      ],
      "metadata": {
        "execution": {
          "iopub.status.busy": "2024-05-22T00:35:27.680009Z",
          "iopub.execute_input": "2024-05-22T00:35:27.680377Z",
          "iopub.status.idle": "2024-05-22T00:35:27.714827Z",
          "shell.execute_reply.started": "2024-05-22T00:35:27.680331Z",
          "shell.execute_reply": "2024-05-22T00:35:27.713991Z"
        },
        "trusted": true,
        "id": "XICjU0N6ytZY"
      },
      "execution_count": null,
      "outputs": []
    },
    {
      "cell_type": "code",
      "source": [
        "df"
      ],
      "metadata": {
        "execution": {
          "iopub.status.busy": "2024-05-22T00:35:27.716428Z",
          "iopub.execute_input": "2024-05-22T00:35:27.717235Z",
          "iopub.status.idle": "2024-05-22T00:35:27.746824Z",
          "shell.execute_reply.started": "2024-05-22T00:35:27.717192Z",
          "shell.execute_reply": "2024-05-22T00:35:27.745802Z"
        },
        "trusted": true,
        "id": "gD0IdGu5ytZY",
        "outputId": "2a5d2feb-e1bd-492e-9c82-2b64840184bc"
      },
      "execution_count": null,
      "outputs": [
        {
          "execution_count": 4,
          "output_type": "execute_result",
          "data": {
            "text/plain": "            Sales  Stock  Price\ndata                           \n2014-01-01      0   4972   1.29\n2014-01-02     70   4902   1.29\n2014-01-03     59   4843   1.29\n2014-01-04     93   4750   1.29\n2014-01-05     96   4654   1.29\n...           ...    ...    ...\n2016-07-27     98   3179   2.39\n2016-07-28    108   3071   2.39\n2016-07-29    128   4095   2.39\n2016-07-30    270   3825   2.39\n2016-07-31    183   3642   2.39\n\n[937 rows x 3 columns]",
            "text/html": "<div>\n<style scoped>\n    .dataframe tbody tr th:only-of-type {\n        vertical-align: middle;\n    }\n\n    .dataframe tbody tr th {\n        vertical-align: top;\n    }\n\n    .dataframe thead th {\n        text-align: right;\n    }\n</style>\n<table border=\"1\" class=\"dataframe\">\n  <thead>\n    <tr style=\"text-align: right;\">\n      <th></th>\n      <th>Sales</th>\n      <th>Stock</th>\n      <th>Price</th>\n    </tr>\n    <tr>\n      <th>data</th>\n      <th></th>\n      <th></th>\n      <th></th>\n    </tr>\n  </thead>\n  <tbody>\n    <tr>\n      <th>2014-01-01</th>\n      <td>0</td>\n      <td>4972</td>\n      <td>1.29</td>\n    </tr>\n    <tr>\n      <th>2014-01-02</th>\n      <td>70</td>\n      <td>4902</td>\n      <td>1.29</td>\n    </tr>\n    <tr>\n      <th>2014-01-03</th>\n      <td>59</td>\n      <td>4843</td>\n      <td>1.29</td>\n    </tr>\n    <tr>\n      <th>2014-01-04</th>\n      <td>93</td>\n      <td>4750</td>\n      <td>1.29</td>\n    </tr>\n    <tr>\n      <th>2014-01-05</th>\n      <td>96</td>\n      <td>4654</td>\n      <td>1.29</td>\n    </tr>\n    <tr>\n      <th>...</th>\n      <td>...</td>\n      <td>...</td>\n      <td>...</td>\n    </tr>\n    <tr>\n      <th>2016-07-27</th>\n      <td>98</td>\n      <td>3179</td>\n      <td>2.39</td>\n    </tr>\n    <tr>\n      <th>2016-07-28</th>\n      <td>108</td>\n      <td>3071</td>\n      <td>2.39</td>\n    </tr>\n    <tr>\n      <th>2016-07-29</th>\n      <td>128</td>\n      <td>4095</td>\n      <td>2.39</td>\n    </tr>\n    <tr>\n      <th>2016-07-30</th>\n      <td>270</td>\n      <td>3825</td>\n      <td>2.39</td>\n    </tr>\n    <tr>\n      <th>2016-07-31</th>\n      <td>183</td>\n      <td>3642</td>\n      <td>2.39</td>\n    </tr>\n  </tbody>\n</table>\n<p>937 rows × 3 columns</p>\n</div>"
          },
          "metadata": {}
        }
      ]
    },
    {
      "cell_type": "code",
      "source": [
        "df.head()"
      ],
      "metadata": {
        "execution": {
          "iopub.status.busy": "2024-05-22T00:35:27.748388Z",
          "iopub.execute_input": "2024-05-22T00:35:27.749295Z",
          "iopub.status.idle": "2024-05-22T00:35:27.763466Z",
          "shell.execute_reply.started": "2024-05-22T00:35:27.749239Z",
          "shell.execute_reply": "2024-05-22T00:35:27.762575Z"
        },
        "trusted": true,
        "id": "fSHSrzSAytZa",
        "outputId": "0f73d226-8f55-45d0-b83e-71687d2b10a7"
      },
      "execution_count": null,
      "outputs": [
        {
          "execution_count": 5,
          "output_type": "execute_result",
          "data": {
            "text/plain": "            Sales  Stock  Price\ndata                           \n2014-01-01      0   4972   1.29\n2014-01-02     70   4902   1.29\n2014-01-03     59   4843   1.29\n2014-01-04     93   4750   1.29\n2014-01-05     96   4654   1.29",
            "text/html": "<div>\n<style scoped>\n    .dataframe tbody tr th:only-of-type {\n        vertical-align: middle;\n    }\n\n    .dataframe tbody tr th {\n        vertical-align: top;\n    }\n\n    .dataframe thead th {\n        text-align: right;\n    }\n</style>\n<table border=\"1\" class=\"dataframe\">\n  <thead>\n    <tr style=\"text-align: right;\">\n      <th></th>\n      <th>Sales</th>\n      <th>Stock</th>\n      <th>Price</th>\n    </tr>\n    <tr>\n      <th>data</th>\n      <th></th>\n      <th></th>\n      <th></th>\n    </tr>\n  </thead>\n  <tbody>\n    <tr>\n      <th>2014-01-01</th>\n      <td>0</td>\n      <td>4972</td>\n      <td>1.29</td>\n    </tr>\n    <tr>\n      <th>2014-01-02</th>\n      <td>70</td>\n      <td>4902</td>\n      <td>1.29</td>\n    </tr>\n    <tr>\n      <th>2014-01-03</th>\n      <td>59</td>\n      <td>4843</td>\n      <td>1.29</td>\n    </tr>\n    <tr>\n      <th>2014-01-04</th>\n      <td>93</td>\n      <td>4750</td>\n      <td>1.29</td>\n    </tr>\n    <tr>\n      <th>2014-01-05</th>\n      <td>96</td>\n      <td>4654</td>\n      <td>1.29</td>\n    </tr>\n  </tbody>\n</table>\n</div>"
          },
          "metadata": {}
        }
      ]
    },
    {
      "cell_type": "code",
      "source": [
        "df.info()"
      ],
      "metadata": {
        "execution": {
          "iopub.status.busy": "2024-05-22T00:35:27.766221Z",
          "iopub.execute_input": "2024-05-22T00:35:27.766688Z",
          "iopub.status.idle": "2024-05-22T00:35:27.795564Z",
          "shell.execute_reply.started": "2024-05-22T00:35:27.766639Z",
          "shell.execute_reply": "2024-05-22T00:35:27.794253Z"
        },
        "trusted": true,
        "id": "f13zFml1ytZa",
        "outputId": "cc37e5c8-a4d1-4eca-fbf7-c1fdef65ef04"
      },
      "execution_count": null,
      "outputs": [
        {
          "name": "stdout",
          "text": "<class 'pandas.core.frame.DataFrame'>\nIndex: 937 entries, 2014-01-01 to 2016-07-31\nData columns (total 3 columns):\n #   Column  Non-Null Count  Dtype  \n---  ------  --------------  -----  \n 0   Sales   937 non-null    int64  \n 1   Stock   937 non-null    int64  \n 2   Price   937 non-null    float64\ndtypes: float64(1), int64(2)\nmemory usage: 29.3+ KB\n",
          "output_type": "stream"
        }
      ]
    },
    {
      "cell_type": "markdown",
      "source": [
        "# Data preprocessing"
      ],
      "metadata": {
        "id": "2RH60chYytZa"
      }
    },
    {
      "cell_type": "markdown",
      "source": [
        "We will then use MinMaxScaler to scale the dataset to the range from 0 to 1. each feature will be scaled indiviually"
      ],
      "metadata": {
        "id": "Kiai0_iGytZb"
      }
    },
    {
      "cell_type": "code",
      "source": [
        "values = df.values\n",
        "scaler = MinMaxScaler()\n",
        "values = scaler.fit_transform(values)\n",
        "\n",
        "y_scaler = MinMaxScaler()\n",
        "y_scaler.fit(df[\"Sales\"].values.reshape(-1,1))\n",
        "\n",
        "df = pd.DataFrame(values, columns=[\"Sales\", \"Stock\", \"Price\"])"
      ],
      "metadata": {
        "execution": {
          "iopub.status.busy": "2024-05-22T00:35:27.797212Z",
          "iopub.execute_input": "2024-05-22T00:35:27.797682Z",
          "iopub.status.idle": "2024-05-22T00:35:27.807879Z",
          "shell.execute_reply.started": "2024-05-22T00:35:27.797637Z",
          "shell.execute_reply": "2024-05-22T00:35:27.806419Z"
        },
        "trusted": true,
        "id": "eifWr4J8ytZb"
      },
      "execution_count": null,
      "outputs": []
    },
    {
      "cell_type": "code",
      "source": [
        "df.head()"
      ],
      "metadata": {
        "execution": {
          "iopub.status.busy": "2024-05-22T00:35:27.809811Z",
          "iopub.execute_input": "2024-05-22T00:35:27.810129Z",
          "iopub.status.idle": "2024-05-22T00:35:27.828109Z",
          "shell.execute_reply.started": "2024-05-22T00:35:27.810086Z",
          "shell.execute_reply": "2024-05-22T00:35:27.826858Z"
        },
        "trusted": true,
        "id": "qdqY9TkcytZc",
        "outputId": "aacabfe7-f1e1-4adc-f705-730aeed9be14"
      },
      "execution_count": null,
      "outputs": [
        {
          "execution_count": 8,
          "output_type": "execute_result",
          "data": {
            "text/plain": "      Sales     Stock     Price\n0  0.000000  0.687880  0.432886\n1  0.129151  0.678196  0.432886\n2  0.108856  0.670033  0.432886\n3  0.171587  0.657167  0.432886\n4  0.177122  0.643885  0.432886",
            "text/html": "<div>\n<style scoped>\n    .dataframe tbody tr th:only-of-type {\n        vertical-align: middle;\n    }\n\n    .dataframe tbody tr th {\n        vertical-align: top;\n    }\n\n    .dataframe thead th {\n        text-align: right;\n    }\n</style>\n<table border=\"1\" class=\"dataframe\">\n  <thead>\n    <tr style=\"text-align: right;\">\n      <th></th>\n      <th>Sales</th>\n      <th>Stock</th>\n      <th>Price</th>\n    </tr>\n  </thead>\n  <tbody>\n    <tr>\n      <th>0</th>\n      <td>0.000000</td>\n      <td>0.687880</td>\n      <td>0.432886</td>\n    </tr>\n    <tr>\n      <th>1</th>\n      <td>0.129151</td>\n      <td>0.678196</td>\n      <td>0.432886</td>\n    </tr>\n    <tr>\n      <th>2</th>\n      <td>0.108856</td>\n      <td>0.670033</td>\n      <td>0.432886</td>\n    </tr>\n    <tr>\n      <th>3</th>\n      <td>0.171587</td>\n      <td>0.657167</td>\n      <td>0.432886</td>\n    </tr>\n    <tr>\n      <th>4</th>\n      <td>0.177122</td>\n      <td>0.643885</td>\n      <td>0.432886</td>\n    </tr>\n  </tbody>\n</table>\n</div>"
          },
          "metadata": {}
        }
      ]
    },
    {
      "cell_type": "markdown",
      "source": [
        "# Split Training and Testing data"
      ],
      "metadata": {
        "id": "Sp8rb4tmytZc"
      }
    },
    {
      "cell_type": "markdown",
      "source": [
        "As shown in the dataset, there's a new sample every day for two years. so we will take the last month (30 days) as our test data and train over the rest of the data"
      ],
      "metadata": {
        "id": "2vgSorvPytZc"
      }
    },
    {
      "cell_type": "code",
      "source": [
        "test_size = 30  # last month\n",
        "train = df.iloc[:-test_size, :]\n",
        "y_train = train[\"Sales\"].to_numpy()\n",
        "x_train = train.to_numpy()\n",
        "\n",
        "test  = df.iloc[-test_size:]\n",
        "y_test = test[\"Sales\"].to_numpy()\n",
        "x_test = test.to_numpy()"
      ],
      "metadata": {
        "execution": {
          "iopub.status.busy": "2024-05-22T00:35:27.830065Z",
          "iopub.execute_input": "2024-05-22T00:35:27.830383Z",
          "iopub.status.idle": "2024-05-22T00:35:27.841179Z",
          "shell.execute_reply.started": "2024-05-22T00:35:27.830348Z",
          "shell.execute_reply": "2024-05-22T00:35:27.840322Z"
        },
        "trusted": true,
        "id": "gBq3sIjFytZd"
      },
      "execution_count": null,
      "outputs": []
    },
    {
      "cell_type": "markdown",
      "source": [
        "## Generate time series data"
      ],
      "metadata": {
        "id": "_5eHVqriytZd"
      }
    },
    {
      "cell_type": "markdown",
      "source": [
        "We need to generate time series data for the training. for example if we have three arrays <br>\n",
        "sales (target)    =  [10, 20, 30, 40, 50] <br>\n",
        "price (feature_1) =  [1, 2, 3, 4, 5] <br>\n",
        "stock (feature_2) =  [100, 200, 300, 400, 500] <br>\n",
        "\n",
        "The data sample should contain the [feature_1(t-1), feature_2(t-1), target(t-1)] and try to predict the target at time (t). <br>\n",
        "\n",
        "[1,100,10] ==> 20 <br>\n",
        "[2,200,20] ==> 30 <br>\n",
        "[3,300,30] ==> 40 <br>\n",
        "\n",
        "And so on"
      ],
      "metadata": {
        "id": "BXVW_IlDytZd"
      }
    },
    {
      "cell_type": "code",
      "source": [
        "length = 1\n",
        "train_generator = TimeseriesGenerator(x_train, y_train, length=length, batch_size=1)\n",
        "test_generator = TimeseriesGenerator(x_test, y_test, length=length, batch_size=1)"
      ],
      "metadata": {
        "execution": {
          "iopub.status.busy": "2024-05-22T00:35:27.842481Z",
          "iopub.execute_input": "2024-05-22T00:35:27.842942Z",
          "iopub.status.idle": "2024-05-22T00:35:27.854815Z",
          "shell.execute_reply.started": "2024-05-22T00:35:27.842902Z",
          "shell.execute_reply": "2024-05-22T00:35:27.853447Z"
        },
        "trusted": true,
        "id": "i66fKR-lytZe"
      },
      "execution_count": null,
      "outputs": []
    },
    {
      "cell_type": "markdown",
      "source": [
        "# Build Model and Train"
      ],
      "metadata": {
        "id": "LowtUAOqytZe"
      }
    },
    {
      "cell_type": "code",
      "source": [
        "number_of_features = 3  # (price, stock, sales)\n",
        "number_of_targets = 1   # (sales)\n",
        "\n",
        "model = Sequential()\n",
        "model.add(LSTM(64, activation=\"relu\", input_shape=(length, number_of_features)))\n",
        "model.add(Dense(number_of_targets))\n",
        "\n",
        "model.compile(\n",
        "    optimizer=\"adam\",\n",
        "    loss=\"mse\"  # Because this is a regression problem\n",
        ")\n",
        "\n",
        "# To prevent the model from over fitting over the data\n",
        "early_stopping = EarlyStopping(monitor=\"val_loss\")"
      ],
      "metadata": {
        "execution": {
          "iopub.status.busy": "2024-05-22T00:35:27.856493Z",
          "iopub.execute_input": "2024-05-22T00:35:27.856840Z",
          "iopub.status.idle": "2024-05-22T00:35:28.143075Z",
          "shell.execute_reply.started": "2024-05-22T00:35:27.856797Z",
          "shell.execute_reply": "2024-05-22T00:35:28.142099Z"
        },
        "trusted": true,
        "id": "Ey8v8vnPytZf",
        "outputId": "ec3252d3-d03b-431c-9d99-f7088e545190"
      },
      "execution_count": null,
      "outputs": [
        {
          "name": "stderr",
          "text": "\nUser settings:\n\n   KMP_AFFINITY=granularity=fine,verbose,compact,1,0\n   KMP_BLOCKTIME=0\n   KMP_DUPLICATE_LIB_OK=True\n   KMP_INIT_AT_FORK=FALSE\n   KMP_SETTINGS=1\n   KMP_WARNINGS=0\n\nEffective settings:\n\n   KMP_ABORT_DELAY=0\n   KMP_ADAPTIVE_LOCK_PROPS='1,1024'\n   KMP_ALIGN_ALLOC=64\n   KMP_ALL_THREADPRIVATE=128\n   KMP_ATOMIC_MODE=2\n   KMP_BLOCKTIME=0\n   KMP_CPUINFO_FILE: value is not defined\n   KMP_DETERMINISTIC_REDUCTION=false\n   KMP_DEVICE_THREAD_LIMIT=2147483647\n   KMP_DISP_NUM_BUFFERS=7\n   KMP_DUPLICATE_LIB_OK=true\n   KMP_ENABLE_TASK_THROTTLING=true\n   KMP_FORCE_REDUCTION: value is not defined\n   KMP_FOREIGN_THREADS_THREADPRIVATE=true\n   KMP_FORKJOIN_BARRIER='2,2'\n   KMP_FORKJOIN_BARRIER_PATTERN='hyper,hyper'\n   KMP_GTID_MODE=3\n   KMP_HANDLE_SIGNALS=false\n   KMP_HOT_TEAMS_MAX_LEVEL=1\n   KMP_HOT_TEAMS_MODE=0\n   KMP_INIT_AT_FORK=true\n   KMP_LIBRARY=throughput\n   KMP_LOCK_KIND=queuing\n   KMP_MALLOC_POOL_INCR=1M\n   KMP_NUM_LOCKS_IN_BLOCK=1\n   KMP_PLAIN_BARRIER='2,2'\n   KMP_PLAIN_BARRIER_PATTERN='hyper,hyper'\n   KMP_REDUCTION_BARRIER='1,1'\n   KMP_REDUCTION_BARRIER_PATTERN='hyper,hyper'\n   KMP_SCHEDULE='static,balanced;guided,iterative'\n   KMP_SETTINGS=true\n   KMP_SPIN_BACKOFF_PARAMS='4096,100'\n   KMP_STACKOFFSET=64\n   KMP_STACKPAD=0\n   KMP_STACKSIZE=8M\n   KMP_STORAGE_MAP=false\n   KMP_TASKING=2\n   KMP_TASKLOOP_MIN_TASKS=0\n   KMP_TASK_STEALING_CONSTRAINT=1\n   KMP_TEAMS_THREAD_LIMIT=4\n   KMP_TOPOLOGY_METHOD=all\n   KMP_USE_YIELD=1\n   KMP_VERSION=false\n   KMP_WARNINGS=false\n   OMP_AFFINITY_FORMAT='OMP: pid %P tid %i thread %n bound to OS proc set {%A}'\n   OMP_ALLOCATOR=omp_default_mem_alloc\n   OMP_CANCELLATION=false\n   OMP_DEFAULT_DEVICE=0\n   OMP_DISPLAY_AFFINITY=false\n   OMP_DISPLAY_ENV=false\n   OMP_DYNAMIC=false\n   OMP_MAX_ACTIVE_LEVELS=1\n   OMP_MAX_TASK_PRIORITY=0\n   OMP_NESTED: deprecated; max-active-levels-var=1\n   OMP_NUM_THREADS: value is not defined\n   OMP_PLACES: value is not defined\n   OMP_PROC_BIND='intel'\n   OMP_SCHEDULE='static'\n   OMP_STACKSIZE=8M\n   OMP_TARGET_OFFLOAD=DEFAULT\n   OMP_THREAD_LIMIT=2147483647\n   OMP_WAIT_POLICY=PASSIVE\n   KMP_AFFINITY='verbose,warnings,respect,granularity=fine,compact,1,0'\n\n",
          "output_type": "stream"
        }
      ]
    },
    {
      "cell_type": "markdown",
      "source": [
        "#### Important Note\n",
        "\n",
        "A very important note before training. We need to prevent the \"fit\" function from shuffeling the data samples as the sequence and the order of the data is very important as we want to catch the changes and trends along the time."
      ],
      "metadata": {
        "id": "WRXDMm8XytZf"
      }
    },
    {
      "cell_type": "code",
      "source": [
        "model.fit(\n",
        "    train_generator,\n",
        "    epochs=20,\n",
        "    callbacks=[early_stopping],\n",
        "    validation_data=test_generator,\n",
        "    shuffle=False\n",
        ")"
      ],
      "metadata": {
        "execution": {
          "iopub.status.busy": "2024-05-22T00:35:28.146078Z",
          "iopub.execute_input": "2024-05-22T00:35:28.146437Z",
          "iopub.status.idle": "2024-05-22T00:35:32.475044Z",
          "shell.execute_reply.started": "2024-05-22T00:35:28.146388Z",
          "shell.execute_reply": "2024-05-22T00:35:32.473950Z"
        },
        "trusted": true,
        "id": "-lQE5KB3ytZg",
        "outputId": "8565d556-30fc-48ac-a9f3-d4a67cbbdc01"
      },
      "execution_count": null,
      "outputs": [
        {
          "name": "stdout",
          "text": "Epoch 1/20\n906/906 [==============================] - 4s 3ms/step - loss: 0.0159 - val_loss: 0.0175\n",
          "output_type": "stream"
        },
        {
          "execution_count": 12,
          "output_type": "execute_result",
          "data": {
            "text/plain": "<keras.callbacks.History at 0x797ac9535410>"
          },
          "metadata": {}
        }
      ]
    },
    {
      "cell_type": "markdown",
      "source": [
        "# Evaluation"
      ],
      "metadata": {
        "id": "H3Oq-Jh3ytZg"
      }
    },
    {
      "cell_type": "code",
      "source": [
        "model.predict(test_generator)"
      ],
      "metadata": {
        "execution": {
          "iopub.status.busy": "2024-05-22T00:40:03.884296Z",
          "iopub.execute_input": "2024-05-22T00:40:03.884787Z",
          "iopub.status.idle": "2024-05-22T00:40:04.025286Z",
          "shell.execute_reply.started": "2024-05-22T00:40:03.884739Z",
          "shell.execute_reply": "2024-05-22T00:40:04.024063Z"
        },
        "trusted": true,
        "id": "fp4_18IAytZg",
        "outputId": "46bc2e33-3df1-4438-e5d1-c16f8d27c752"
      },
      "execution_count": null,
      "outputs": [
        {
          "execution_count": 16,
          "output_type": "execute_result",
          "data": {
            "text/plain": "array([[0.4573965 ],\n       [0.32156095],\n       [0.2895882 ],\n       [0.3564808 ],\n       [0.37902707],\n       [0.33699748],\n       [0.20319097],\n       [0.26240927],\n       [0.24191894],\n       [0.2811619 ],\n       [0.32867777],\n       [0.43188345],\n       [0.28413886],\n       [0.32686225],\n       [0.4328858 ],\n       [0.3240156 ],\n       [0.3022102 ],\n       [0.2956301 ],\n       [0.40496302],\n       [0.17984203],\n       [0.21331935],\n       [0.27550113],\n       [0.266857  ],\n       [0.19618694],\n       [0.29697073],\n       [0.30998033],\n       [0.31568837],\n       [0.37705618],\n       [0.502172  ]], dtype=float32)"
          },
          "metadata": {}
        }
      ]
    },
    {
      "cell_type": "code",
      "source": [
        "predictions = model.predict(test_generator)"
      ],
      "metadata": {
        "execution": {
          "iopub.status.busy": "2024-05-22T00:35:32.476805Z",
          "iopub.execute_input": "2024-05-22T00:35:32.477914Z",
          "iopub.status.idle": "2024-05-22T00:35:32.857925Z",
          "shell.execute_reply.started": "2024-05-22T00:35:32.477868Z",
          "shell.execute_reply": "2024-05-22T00:35:32.857123Z"
        },
        "trusted": true,
        "id": "UPI2T9vXytZh"
      },
      "execution_count": null,
      "outputs": []
    },
    {
      "cell_type": "markdown",
      "source": [
        "Invert the scaled values of the **Sales** data to visualize the final output"
      ],
      "metadata": {
        "id": "HMgO3b1SytZh"
      }
    },
    {
      "cell_type": "code",
      "source": [
        "y_test = y_scaler.inverse_transform(y_test.reshape(-1,1))\n",
        "predictions = y_scaler.inverse_transform(predictions.reshape(-1,1))"
      ],
      "metadata": {
        "execution": {
          "iopub.status.busy": "2024-05-22T00:35:32.859340Z",
          "iopub.execute_input": "2024-05-22T00:35:32.860438Z",
          "iopub.status.idle": "2024-05-22T00:35:32.867132Z",
          "shell.execute_reply.started": "2024-05-22T00:35:32.860386Z",
          "shell.execute_reply": "2024-05-22T00:35:32.865893Z"
        },
        "trusted": true,
        "id": "mBHA0RisytZh"
      },
      "execution_count": null,
      "outputs": []
    },
    {
      "cell_type": "markdown",
      "source": [
        "Now let's visualize the predicted Sales for the last month vs. the actual Sales values for that month"
      ],
      "metadata": {
        "id": "RZfh_K-fytZh"
      }
    },
    {
      "cell_type": "code",
      "source": [
        "import matplotlib.pyplot as plt\n",
        "plt.plot(predictions, label=\"prediction\")\n",
        "plt.plot(y_test, label=\"ground truth\")\n",
        "plt.legend()\n",
        "plt.show()"
      ],
      "metadata": {
        "execution": {
          "iopub.status.busy": "2024-05-22T00:35:32.868949Z",
          "iopub.execute_input": "2024-05-22T00:35:32.869514Z",
          "iopub.status.idle": "2024-05-22T00:35:33.100562Z",
          "shell.execute_reply.started": "2024-05-22T00:35:32.869459Z",
          "shell.execute_reply": "2024-05-22T00:35:33.099636Z"
        },
        "trusted": true,
        "id": "0gX-exfAytZh",
        "outputId": "d8a1dc47-233c-4e25-dd90-587c11c78e3c"
      },
      "execution_count": null,
      "outputs": [
        {
          "output_type": "display_data",
          "data": {
            "text/plain": "<Figure size 432x288 with 1 Axes>",
            "image/png": "[encoded data removed]"
          },
          "metadata": {
            "needs_background": "light"
          }
        }
      ]
    }
  ]
}